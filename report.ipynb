{
 "cells": [
  {
   "cell_type": "code",
   "execution_count": 1,
   "id": "a6d85b73",
   "metadata": {},
   "outputs": [
    {
     "name": "stdout",
     "output_type": "stream",
     "text": [
      "tensor([[0.2754, 0.9867, 0.3094],\n",
      "        [0.3952, 0.7171, 0.8118],\n",
      "        [0.8500, 0.0405, 0.2768],\n",
      "        [0.7487, 0.0657, 0.1225],\n",
      "        [0.1663, 0.2883, 0.1285]])\n"
     ]
    }
   ],
   "source": [
    "import torch\n",
    "x = torch.rand(5, 3)\n",
    "print(x)"
   ]
  },
  {
   "cell_type": "code",
   "execution_count": 2,
   "id": "0a7a4b0c",
   "metadata": {},
   "outputs": [
    {
     "data": {
      "text/plain": [
       "True"
      ]
     },
     "execution_count": 2,
     "metadata": {},
     "output_type": "execute_result"
    }
   ],
   "source": [
    "import torch\n",
    "torch.cuda.is_available()"
   ]
  },
  {
   "cell_type": "code",
   "execution_count": 3,
   "id": "7951b4ec",
   "metadata": {},
   "outputs": [],
   "source": [
    "import pandas as pd\n",
    "import numpy as np\n",
    "import matplotlib.pyplot as plt\n",
    "import cv2"
   ]
  },
  {
   "cell_type": "code",
   "execution_count": 16,
   "id": "9f85ac12",
   "metadata": {},
   "outputs": [
    {
     "name": "stdout",
     "output_type": "stream",
     "text": [
      "['1652875851.3497071', '1652875901.3107166', '1652876013.741493', '1652876206.2541456', '1652876485.8123376', '1652959186.4507334', '1652959347.972946', '1653042695.4914637', '1653042775.5213027', '1653043202.5073502', '1653043345.3415065', '1653043428.8546412', '1653043549.5187616']\n",
      "['1652875851.3497071.csv', '1652875901.3107166.csv', '1652876013.741493.csv', '1652876206.2541456.csv', '1652876485.8123376.csv', '1652959186.4507334.csv', '1652959347.972946.csv', '1653042695.4914637.csv', '1653042775.5213027.csv', '1653043202.5073502.csv', '1653043345.3415065.csv', '1653043428.8546412.csv', '1653043549.5187616.csv']\n"
     ]
    }
   ],
   "source": [
    "import os\n",
    "\n",
    "dataset_dir = \"dataset\"\n",
    "folders = os.listdir(dataset_dir)\n",
    "y_set_folders = []\n",
    "x_set_folders = []\n",
    "for folder in folders:\n",
    "    if '.csv' in folder:\n",
    "        y_set_folders.append(folder)\n",
    "    else:\n",
    "        x_set_folders.append(folder)\n",
    "\n",
    "# sorting the folders to make sure they are in the same order\n",
    "x_set_folders.sort()\n",
    "y_set_folders.sort()\n",
    "print(x_set_folders)\n",
    "print(y_set_folders)"
   ]
  },
  {
   "cell_type": "code",
   "execution_count": 17,
   "id": "f7cd5d94",
   "metadata": {},
   "outputs": [],
   "source": [
    "data_x = []\n",
    "\n",
    "\n",
    "for folder in x_set_folders:\n",
    "    image_path = dataset_dir + \"/\" + folder + \"/\"\n",
    "    images = os.listdir(image_path)\n",
    "    images.sort()\n",
    "\n",
    "    for image in images:\n",
    "        imag_path = image_path + image\n",
    "        # image = cv2.imread(imag_path)\n",
    "        # img_array = image.flatten()\n",
    "        data_x.append(imag_path)\n",
    "\n",
    "\n",
    "\n"
   ]
  },
  {
   "cell_type": "code",
   "execution_count": 10,
   "id": "12966de8",
   "metadata": {},
   "outputs": [
    {
     "name": "stdout",
     "output_type": "stream",
     "text": [
      "1652875851.3497071\n"
     ]
    }
   ],
   "source": [
    "print(y_set_folders[0][:len(y_set_folders[0]) - 4])"
   ]
  },
  {
   "cell_type": "code",
   "execution_count": 19,
   "id": "81860078",
   "metadata": {},
   "outputs": [
    {
     "name": "stderr",
     "output_type": "stream",
     "text": [
      "C:\\Users\\Wojtek\\AppData\\Local\\Temp\\ipykernel_14948\\3900078655.py:6: FutureWarning: Setting an item of incompatible dtype is deprecated and will raise an error in a future version of pandas. Value 'dataset/1652875851.3497071/0024.jpg' has dtype incompatible with int64, please explicitly cast to a compatible dtype first.\n",
      "  df.iloc[i, 0] = dataset_dir + \"/\" + folder[:len(y_set_folders[0]) - 4] + \"/\" + f\"{df.iloc[i, 0]:04d}\" + \".jpg\"\n",
      "C:\\Users\\Wojtek\\AppData\\Local\\Temp\\ipykernel_14948\\3900078655.py:6: FutureWarning: Setting an item of incompatible dtype is deprecated and will raise an error in a future version of pandas. Value 'dataset/1652875901.3107166/0017.jpg' has dtype incompatible with int64, please explicitly cast to a compatible dtype first.\n",
      "  df.iloc[i, 0] = dataset_dir + \"/\" + folder[:len(y_set_folders[0]) - 4] + \"/\" + f\"{df.iloc[i, 0]:04d}\" + \".jpg\"\n",
      "C:\\Users\\Wojtek\\AppData\\Local\\Temp\\ipykernel_14948\\3900078655.py:6: FutureWarning: Setting an item of incompatible dtype is deprecated and will raise an error in a future version of pandas. Value 'dataset/1652876013.741493./0007.jpg' has dtype incompatible with int64, please explicitly cast to a compatible dtype first.\n",
      "  df.iloc[i, 0] = dataset_dir + \"/\" + folder[:len(y_set_folders[0]) - 4] + \"/\" + f\"{df.iloc[i, 0]:04d}\" + \".jpg\"\n",
      "C:\\Users\\Wojtek\\AppData\\Local\\Temp\\ipykernel_14948\\3900078655.py:6: FutureWarning: Setting an item of incompatible dtype is deprecated and will raise an error in a future version of pandas. Value 'dataset/1652876206.2541456/0008.jpg' has dtype incompatible with int64, please explicitly cast to a compatible dtype first.\n",
      "  df.iloc[i, 0] = dataset_dir + \"/\" + folder[:len(y_set_folders[0]) - 4] + \"/\" + f\"{df.iloc[i, 0]:04d}\" + \".jpg\"\n",
      "C:\\Users\\Wojtek\\AppData\\Local\\Temp\\ipykernel_14948\\3900078655.py:6: FutureWarning: Setting an item of incompatible dtype is deprecated and will raise an error in a future version of pandas. Value 'dataset/1652876485.8123376/0005.jpg' has dtype incompatible with int64, please explicitly cast to a compatible dtype first.\n",
      "  df.iloc[i, 0] = dataset_dir + \"/\" + folder[:len(y_set_folders[0]) - 4] + \"/\" + f\"{df.iloc[i, 0]:04d}\" + \".jpg\"\n",
      "C:\\Users\\Wojtek\\AppData\\Local\\Temp\\ipykernel_14948\\3900078655.py:6: FutureWarning: Setting an item of incompatible dtype is deprecated and will raise an error in a future version of pandas. Value 'dataset/1652959186.4507334/0162.jpg' has dtype incompatible with int64, please explicitly cast to a compatible dtype first.\n",
      "  df.iloc[i, 0] = dataset_dir + \"/\" + folder[:len(y_set_folders[0]) - 4] + \"/\" + f\"{df.iloc[i, 0]:04d}\" + \".jpg\"\n",
      "C:\\Users\\Wojtek\\AppData\\Local\\Temp\\ipykernel_14948\\3900078655.py:6: FutureWarning: Setting an item of incompatible dtype is deprecated and will raise an error in a future version of pandas. Value 'dataset/1652959347.972946./0029.jpg' has dtype incompatible with int64, please explicitly cast to a compatible dtype first.\n",
      "  df.iloc[i, 0] = dataset_dir + \"/\" + folder[:len(y_set_folders[0]) - 4] + \"/\" + f\"{df.iloc[i, 0]:04d}\" + \".jpg\"\n",
      "C:\\Users\\Wojtek\\AppData\\Local\\Temp\\ipykernel_14948\\3900078655.py:6: FutureWarning: Setting an item of incompatible dtype is deprecated and will raise an error in a future version of pandas. Value 'dataset/1653042695.4914637/0076.jpg' has dtype incompatible with int64, please explicitly cast to a compatible dtype first.\n",
      "  df.iloc[i, 0] = dataset_dir + \"/\" + folder[:len(y_set_folders[0]) - 4] + \"/\" + f\"{df.iloc[i, 0]:04d}\" + \".jpg\"\n",
      "C:\\Users\\Wojtek\\AppData\\Local\\Temp\\ipykernel_14948\\3900078655.py:6: FutureWarning: Setting an item of incompatible dtype is deprecated and will raise an error in a future version of pandas. Value 'dataset/1653042775.5213027/0013.jpg' has dtype incompatible with int64, please explicitly cast to a compatible dtype first.\n",
      "  df.iloc[i, 0] = dataset_dir + \"/\" + folder[:len(y_set_folders[0]) - 4] + \"/\" + f\"{df.iloc[i, 0]:04d}\" + \".jpg\"\n",
      "C:\\Users\\Wojtek\\AppData\\Local\\Temp\\ipykernel_14948\\3900078655.py:6: FutureWarning: Setting an item of incompatible dtype is deprecated and will raise an error in a future version of pandas. Value 'dataset/1653043202.5073502/0176.jpg' has dtype incompatible with int64, please explicitly cast to a compatible dtype first.\n",
      "  df.iloc[i, 0] = dataset_dir + \"/\" + folder[:len(y_set_folders[0]) - 4] + \"/\" + f\"{df.iloc[i, 0]:04d}\" + \".jpg\"\n",
      "C:\\Users\\Wojtek\\AppData\\Local\\Temp\\ipykernel_14948\\3900078655.py:6: FutureWarning: Setting an item of incompatible dtype is deprecated and will raise an error in a future version of pandas. Value 'dataset/1653043345.3415065/0022.jpg' has dtype incompatible with int64, please explicitly cast to a compatible dtype first.\n",
      "  df.iloc[i, 0] = dataset_dir + \"/\" + folder[:len(y_set_folders[0]) - 4] + \"/\" + f\"{df.iloc[i, 0]:04d}\" + \".jpg\"\n",
      "C:\\Users\\Wojtek\\AppData\\Local\\Temp\\ipykernel_14948\\3900078655.py:6: FutureWarning: Setting an item of incompatible dtype is deprecated and will raise an error in a future version of pandas. Value 'dataset/1653043428.8546412/0034.jpg' has dtype incompatible with int64, please explicitly cast to a compatible dtype first.\n",
      "  df.iloc[i, 0] = dataset_dir + \"/\" + folder[:len(y_set_folders[0]) - 4] + \"/\" + f\"{df.iloc[i, 0]:04d}\" + \".jpg\"\n",
      "C:\\Users\\Wojtek\\AppData\\Local\\Temp\\ipykernel_14948\\3900078655.py:6: FutureWarning: Setting an item of incompatible dtype is deprecated and will raise an error in a future version of pandas. Value 'dataset/1653043549.5187616/0045.jpg' has dtype incompatible with int64, please explicitly cast to a compatible dtype first.\n",
      "  df.iloc[i, 0] = dataset_dir + \"/\" + folder[:len(y_set_folders[0]) - 4] + \"/\" + f\"{df.iloc[i, 0]:04d}\" + \".jpg\"\n"
     ]
    }
   ],
   "source": [
    "for folder in y_set_folders:\n",
    "    csv_path = dataset_dir + \"/\" + folder\n",
    "    df = pd.read_csv(csv_path, header=None)\n",
    "    \n",
    "    for i in range(len(df)):\n",
    "        df.iloc[i, 0] = dataset_dir + \"/\" + folder[:len(y_set_folders[0]) - 4] + \"/\" + f\"{df.iloc[i, 0]:04d}\" + \".jpg\"\n",
    "\n",
    "    # save to csv\n",
    "    df.to_csv(csv_path, header=False ,index=False)\n",
    "\n",
    "\n"
   ]
  },
  {
   "cell_type": "code",
   "execution_count": 20,
   "id": "6994bcd9",
   "metadata": {},
   "outputs": [],
   "source": [
    "# merge all the csv files into one\n",
    "data_y = []\n",
    "for folder in y_set_folders:\n",
    "    csv_path = dataset_dir + \"/\" + folder\n",
    "    df = pd.read_csv(csv_path, header=None)\n",
    "    \n",
    "    for i in range(len(df)):\n",
    "        data_y.append(df.iloc[i])\n",
    "data_y = pd.DataFrame(data_y)\n",
    "data_y.columns = [\"image\", \"label1\", \"label2\"]\n",
    "\n",
    "# save to csv\n",
    "data_y.to_csv(\"merged.csv\", index=False)\n"
   ]
  },
  {
   "cell_type": "code",
   "execution_count": 4,
   "id": "36d73bbe",
   "metadata": {},
   "outputs": [
    {
     "name": "stdout",
     "output_type": "stream",
     "text": [
      "7585\n"
     ]
    }
   ],
   "source": [
    "print(len(data_x))\n",
    "# print(data_x.shape)"
   ]
  },
  {
   "cell_type": "code",
   "execution_count": 8,
   "id": "358b8660",
   "metadata": {},
   "outputs": [
    {
     "name": "stdout",
     "output_type": "stream",
     "text": [
      "13\n"
     ]
    }
   ],
   "source": [
    "print(len(data_y))\n",
    "# print(data_y.shape)"
   ]
  },
  {
   "cell_type": "code",
   "execution_count": 21,
   "id": "bee06422",
   "metadata": {},
   "outputs": [],
   "source": [
    "# open the csv file\n",
    "df = pd.read_csv(\"merged.csv\")\n",
    "# take 20% of the data for training\n",
    "train_df = df.sample(frac=0.8, random_state=1)\n",
    "# take 20% of the data for testing\n",
    "test_df = df.drop(train_df.index)\n",
    "# save to csv\n",
    "train_df.to_csv(\"train.csv\", index=False)\n",
    "test_df.to_csv(\"test.csv\", index=False)"
   ]
  }
 ],
 "metadata": {
  "kernelspec": {
   "display_name": ".venv",
   "language": "python",
   "name": "python3"
  },
  "language_info": {
   "codemirror_mode": {
    "name": "ipython",
    "version": 3
   },
   "file_extension": ".py",
   "mimetype": "text/x-python",
   "name": "python",
   "nbconvert_exporter": "python",
   "pygments_lexer": "ipython3",
   "version": "3.13.0"
  }
 },
 "nbformat": 4,
 "nbformat_minor": 5
}
