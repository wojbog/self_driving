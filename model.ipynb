{
 "cells": [
  {
   "cell_type": "code",
   "execution_count": 4,
   "id": "1d6a40eb",
   "metadata": {},
   "outputs": [],
   "source": [
    "from torch.utils.data import Dataset\n",
    "from PIL import Image\n",
    "import torch\n",
    "\n",
    "class ImageDataset(Dataset):\n",
    "    def __init__(self, csv_file, transform=None):\n",
    "        import pandas as pd\n",
    "        self.data = pd.read_csv(csv_file)\n",
    "        self.transform = transform\n",
    "\n",
    "    def __len__(self):\n",
    "        return len(self.data)\n",
    "\n",
    "    def __getitem__(self, idx):\n",
    "        img_path = self.data.iloc[idx][\"image\"]\n",
    "        image = Image.open(img_path).convert(\"RGB\") # magic trick :)\n",
    "        if self.transform:\n",
    "            image = self.transform(image)\n",
    "        label = self.data.iloc[idx][[\"label1\", \"label2\"]].values.astype(\"float32\")\n",
    "        return image, torch.tensor(label)"
   ]
  },
  {
   "cell_type": "code",
   "execution_count": 5,
   "id": "d6ea0c00",
   "metadata": {},
   "outputs": [],
   "source": [
    "from torchvision import transforms\n",
    "from torch.utils.data import DataLoader\n",
    "\n",
    "transform = transforms.Compose([\n",
    "    transforms.ToTensor()\n",
    "])\n",
    "\n",
    "dataset = ImageDataset(\"train.csv\", transform=transform)\n",
    "dataset_val = ImageDataset(\"test.csv\", transform=transform)\n",
    "train_loader = DataLoader(dataset, shuffle=True)\n",
    "val_loader = DataLoader(dataset_val, shuffle=False)"
   ]
  },
  {
   "cell_type": "code",
   "execution_count": 6,
   "id": "9ca968cb",
   "metadata": {},
   "outputs": [
    {
     "name": "stdout",
     "output_type": "stream",
     "text": [
      "torch.Size([1, 3, 224, 224])\n",
      "torch.Size([1, 2])\n",
      "x values are in the range [0, 1]\n"
     ]
    }
   ],
   "source": [
    "for x, y in train_loader:\n",
    "    print(x.shape)\n",
    "    print(y.shape)\n",
    "    # check range of the values in x\n",
    "    if x.min() < 0 or x.max() > 1:\n",
    "        print(\"x values are not in the range [0, 1]\")\n",
    "    else:\n",
    "        print(\"x values are in the range [0, 1]\")\n",
    "\n",
    "    break"
   ]
  },
  {
   "cell_type": "code",
   "execution_count": 7,
   "id": "2bd03139",
   "metadata": {},
   "outputs": [],
   "source": [
    "import torch.nn as nn\n",
    "import torch.nn.functional as F\n",
    "\n",
    "class SimpleCNN(nn.Module):\n",
    "    def __init__(self):\n",
    "        super(SimpleCNN, self).__init__()\n",
    "        self.conv = nn.Sequential(\n",
    "            nn.Conv2d(3, 16, 3, stride=2),\n",
    "            nn.ReLU(),\n",
    "            nn.Conv2d(16, 32, 3, stride=2),\n",
    "            nn.ReLU(),\n",
    "            nn.AdaptiveAvgPool2d((1, 1))\n",
    "        )\n",
    "        self.fc = nn.Linear(32, 2)  # output 2 values\n",
    "\n",
    "    def forward(self, x):\n",
    "        x = self.conv(x)\n",
    "        x = x.view(x.size(0), -1)  # Flatten\n",
    "        x = self.fc(x)\n",
    "        return torch.tanh(x)  # Scale outputs to [-1, 1]\n"
   ]
  },
  {
   "cell_type": "code",
   "execution_count": 8,
   "id": "855b1c46",
   "metadata": {},
   "outputs": [],
   "source": [
    "import torch.nn as nn\n",
    "import torch.nn.functional as F\n",
    "\n",
    "class AdvCNN(nn.Module):\n",
    "    def __init__(self):\n",
    "        super(AdvCNN, self).__init__()\n",
    "        self.conv = nn.Sequential(\n",
    "            nn.Conv2d(3, 16, 3, stride=2),\n",
    "            nn.ReLU(),\n",
    "            nn.Conv2d(16, 32, 3, stride=2),\n",
    "            nn.ReLU(),\n",
    "            nn.Conv2d(32, 64, 3, stride=2),\n",
    "            nn.ReLU(),\n",
    "            nn.AdaptiveAvgPool2d((1, 1))\n",
    "        )\n",
    "        self.fc = nn.Linear(64, 2)  # output 2 values\n",
    "\n",
    "    def forward(self, x):\n",
    "        x = self.conv(x)\n",
    "        x = x.view(x.size(0), -1)  # Flatten\n",
    "        x = self.fc(x)\n",
    "        return torch.tanh(x)  # Scale outputs to [-1, 1]\n"
   ]
  },
  {
   "cell_type": "code",
   "execution_count": 9,
   "id": "03cc4bfa",
   "metadata": {},
   "outputs": [],
   "source": [
    "class MoreAdvCNN(nn.Module):\n",
    "    def __init__(self):\n",
    "        super(MoreAdvCNN, self).__init__()\n",
    "        self.conv = nn.Sequential(\n",
    "            nn.Conv2d(3, 32, 3, stride=1, padding=1),   # (3, 224, 224) → (32, 224, 224)\n",
    "            nn.ReLU(),\n",
    "            nn.MaxPool2d(2),                            # → (32, 112, 112)\n",
    "\n",
    "            nn.Conv2d(32, 64, 3, stride=1, padding=1),  # → (64, 112, 112)\n",
    "            nn.ReLU(),\n",
    "            nn.MaxPool2d(2),                            # → (64, 56, 56)\n",
    "\n",
    "            nn.Conv2d(64, 128, 3, stride=1, padding=1), # → (128, 56, 56)\n",
    "            nn.ReLU(),\n",
    "            nn.MaxPool2d(2),                            # → (128, 28, 28)\n",
    "\n",
    "            nn.Conv2d(128, 256, 3, stride=1, padding=1),# → (256, 28, 28)\n",
    "            nn.ReLU(),\n",
    "            nn.AdaptiveAvgPool2d((1, 1))                # → (256, 1, 1)\n",
    "        )\n",
    "\n",
    "        self.fc = nn.Sequential(\n",
    "            nn.Linear(256, 128),\n",
    "            nn.ReLU(),\n",
    "            nn.Linear(128, 2),\n",
    "            nn.Tanh()\n",
    "        )\n",
    "\n",
    "    def forward(self, x):\n",
    "        x = self.conv(x)\n",
    "        x = x.view(x.size(0), -1)\n",
    "        return self.fc(x)"
   ]
  },
  {
   "cell_type": "code",
   "execution_count": 10,
   "id": "021a7f63",
   "metadata": {},
   "outputs": [
    {
     "name": "stdout",
     "output_type": "stream",
     "text": [
      "Using device: cuda\n"
     ]
    }
   ],
   "source": [
    "import torch\n",
    "\n",
    "device = torch.device(\"cuda\" if torch.cuda.is_available() else \"cpu\")\n",
    "print(\"Using device:\", device)"
   ]
  },
  {
   "cell_type": "code",
   "execution_count": 11,
   "id": "cca088ff",
   "metadata": {},
   "outputs": [],
   "source": [
    "model = AdvCNN().to(device)\n",
    "criterion = nn.MSELoss()\n",
    "optimizer = torch.optim.Adam(model.parameters(), lr=1e-3)\n",
    "num_epochs = 50\n"
   ]
  },
  {
   "cell_type": "code",
   "execution_count": 12,
   "id": "3a420e75",
   "metadata": {},
   "outputs": [
    {
     "name": "stdout",
     "output_type": "stream",
     "text": [
      "Epoch 1/50 — Train Loss: 0.2381 — Val Loss: 0.2169\n",
      "Validation loss improved. Model saved to best_model.pth\n",
      "Epoch 2/50 — Train Loss: 0.2355 — Val Loss: 0.2153\n",
      "Validation loss improved. Model saved to best_model.pth\n",
      "Epoch 3/50 — Train Loss: 0.2334 — Val Loss: 0.2166\n",
      "No improvement. 1 epoch(s) without improvement.\n",
      "Epoch 4/50 — Train Loss: 0.2329 — Val Loss: 0.2126\n",
      "Validation loss improved. Model saved to best_model.pth\n",
      "Epoch 5/50 — Train Loss: 0.2313 — Val Loss: 0.2084\n",
      "Validation loss improved. Model saved to best_model.pth\n",
      "Epoch 6/50 — Train Loss: 0.2270 — Val Loss: 0.2032\n",
      "Validation loss improved. Model saved to best_model.pth\n",
      "Epoch 7/50 — Train Loss: 0.2125 — Val Loss: 0.1770\n",
      "Validation loss improved. Model saved to best_model.pth\n",
      "Epoch 8/50 — Train Loss: 0.1834 — Val Loss: 0.1748\n",
      "Validation loss improved. Model saved to best_model.pth\n",
      "Epoch 9/50 — Train Loss: 0.1569 — Val Loss: 0.1439\n",
      "Validation loss improved. Model saved to best_model.pth\n",
      "Epoch 10/50 — Train Loss: 0.1444 — Val Loss: 0.1282\n",
      "Validation loss improved. Model saved to best_model.pth\n",
      "Epoch 11/50 — Train Loss: 0.1374 — Val Loss: 0.1211\n",
      "Validation loss improved. Model saved to best_model.pth\n",
      "Epoch 12/50 — Train Loss: 0.1302 — Val Loss: 0.1295\n",
      "No improvement. 1 epoch(s) without improvement.\n",
      "Epoch 13/50 — Train Loss: 0.1256 — Val Loss: 0.1170\n",
      "Validation loss improved. Model saved to best_model.pth\n",
      "Epoch 14/50 — Train Loss: 0.1220 — Val Loss: 0.1165\n",
      "Validation loss improved. Model saved to best_model.pth\n",
      "Epoch 15/50 — Train Loss: 0.1180 — Val Loss: 0.1130\n",
      "Validation loss improved. Model saved to best_model.pth\n",
      "Epoch 16/50 — Train Loss: 0.1152 — Val Loss: 0.1087\n",
      "Validation loss improved. Model saved to best_model.pth\n",
      "Epoch 17/50 — Train Loss: 0.1113 — Val Loss: 0.1027\n",
      "Validation loss improved. Model saved to best_model.pth\n",
      "Epoch 18/50 — Train Loss: 0.1076 — Val Loss: 0.1045\n",
      "No improvement. 1 epoch(s) without improvement.\n",
      "Epoch 19/50 — Train Loss: 0.1048 — Val Loss: 0.1005\n",
      "Validation loss improved. Model saved to best_model.pth\n",
      "Epoch 20/50 — Train Loss: 0.1029 — Val Loss: 0.1194\n",
      "No improvement. 1 epoch(s) without improvement.\n",
      "Epoch 21/50 — Train Loss: 0.0999 — Val Loss: 0.1037\n",
      "No improvement. 2 epoch(s) without improvement.\n",
      "Epoch 22/50 — Train Loss: 0.0976 — Val Loss: 0.0956\n",
      "Validation loss improved. Model saved to best_model.pth\n",
      "Epoch 23/50 — Train Loss: 0.0948 — Val Loss: 0.1004\n",
      "No improvement. 1 epoch(s) without improvement.\n",
      "Epoch 24/50 — Train Loss: 0.0932 — Val Loss: 0.0958\n",
      "No improvement. 2 epoch(s) without improvement.\n",
      "Epoch 25/50 — Train Loss: 0.0908 — Val Loss: 0.1041\n",
      "No improvement. 3 epoch(s) without improvement.\n",
      "Epoch 26/50 — Train Loss: 0.0884 — Val Loss: 0.0939\n",
      "Validation loss improved. Model saved to best_model.pth\n",
      "Epoch 27/50 — Train Loss: 0.0867 — Val Loss: 0.0939\n",
      "Validation loss improved. Model saved to best_model.pth\n",
      "Epoch 28/50 — Train Loss: 0.0854 — Val Loss: 0.1248\n",
      "No improvement. 1 epoch(s) without improvement.\n",
      "Epoch 29/50 — Train Loss: 0.0833 — Val Loss: 0.0928\n",
      "Validation loss improved. Model saved to best_model.pth\n",
      "Epoch 30/50 — Train Loss: 0.0812 — Val Loss: 0.0962\n",
      "No improvement. 1 epoch(s) without improvement.\n",
      "Epoch 31/50 — Train Loss: 0.0797 — Val Loss: 0.1206\n",
      "No improvement. 2 epoch(s) without improvement.\n",
      "Epoch 32/50 — Train Loss: 0.0784 — Val Loss: 0.0942\n",
      "No improvement. 3 epoch(s) without improvement.\n",
      "Epoch 33/50 — Train Loss: 0.0770 — Val Loss: 0.0983\n",
      "No improvement. 4 epoch(s) without improvement.\n",
      "Epoch 34/50 — Train Loss: 0.0749 — Val Loss: 0.1071\n",
      "No improvement. 5 epoch(s) without improvement.\n",
      "Epoch 35/50 — Train Loss: 0.0727 — Val Loss: 0.1114\n",
      "No improvement. 6 epoch(s) without improvement.\n",
      "Epoch 36/50 — Train Loss: 0.0712 — Val Loss: 0.1010\n",
      "No improvement. 7 epoch(s) without improvement.\n",
      "Epoch 37/50 — Train Loss: 0.0699 — Val Loss: 0.0990\n",
      "No improvement. 8 epoch(s) without improvement.\n",
      "Epoch 38/50 — Train Loss: 0.0684 — Val Loss: 0.1057\n",
      "No improvement. 9 epoch(s) without improvement.\n",
      "Early stopping triggered after 38 epochs.\n"
     ]
    }
   ],
   "source": [
    "train_loss_arr = []\n",
    "val_loss_arr = []\n",
    "\n",
    "best_val_loss = float(\"inf\")\n",
    "best_model_path = \"best_model.pth\"\n",
    "early_stop_patience = 9\n",
    "epochs_without_improvement = 0\n",
    "\n",
    "for epoch in range(num_epochs):\n",
    "    # Training\n",
    "    model.train()\n",
    "    train_loss = 0.0\n",
    "    for images, labels in train_loader:\n",
    "        images = images.to(device)\n",
    "        labels = labels.to(device)\n",
    "\n",
    "        optimizer.zero_grad()\n",
    "        outputs = model(images)\n",
    "        loss = criterion(outputs, labels)\n",
    "        loss.backward()\n",
    "        optimizer.step()\n",
    "\n",
    "        train_loss += loss.item()\n",
    "\n",
    "    # Evaluation\n",
    "    model.eval()\n",
    "    val_loss = 0.0\n",
    "    with torch.no_grad():\n",
    "        for images, labels in val_loader:\n",
    "            images = images.to(device)\n",
    "            labels = labels.to(device)\n",
    "            outputs = model(images)\n",
    "            loss = criterion(outputs, labels)\n",
    "            val_loss += loss.item()\n",
    "\n",
    "    avg_train_loss = train_loss / len(train_loader)\n",
    "    avg_val_loss = val_loss / len(val_loader)\n",
    "    print(f\"Epoch {epoch+1}/{num_epochs} — Train Loss: {avg_train_loss:.4f} — Val Loss: {avg_val_loss:.4f}\")\n",
    "    train_loss_arr.append(avg_train_loss)\n",
    "    val_loss_arr.append(avg_val_loss)\n",
    "\n",
    "        # ---- Improvement check ----\n",
    "    if avg_val_loss < best_val_loss:\n",
    "        best_val_loss = avg_val_loss\n",
    "        torch.save(model.state_dict(), best_model_path)\n",
    "        print(f\"Validation loss improved. Model saved to {best_model_path}\")\n",
    "        epochs_without_improvement = 0\n",
    "    else:\n",
    "        epochs_without_improvement += 1\n",
    "        print(f\"No improvement. {epochs_without_improvement} epoch(s) without improvement.\")\n",
    "\n",
    "    # ---- Early stopping ----\n",
    "    if epochs_without_improvement >= early_stop_patience:\n",
    "        print(f\"Early stopping triggered after {epoch+1} epochs.\")\n",
    "        break\n",
    "\n"
   ]
  },
  {
   "cell_type": "code",
   "execution_count": 13,
   "id": "8d5a3b11",
   "metadata": {},
   "outputs": [
    {
     "data": {
      "image/png": "[encoded data removed]",
      "text/plain": [
       "<Figure size 640x480 with 1 Axes>"
      ]
     },
     "metadata": {},
     "output_type": "display_data"
    }
   ],
   "source": [
    "# plot loss\n",
    "import matplotlib.pyplot as plt\n",
    "\n",
    "plt.plot(train_loss_arr, label=\"Train Loss\")\n",
    "plt.plot(val_loss_arr, label=\"Validation Loss\")\n",
    "plt.xlabel(\"Epoch\")\n",
    "plt.ylabel(\"Loss\")\n",
    "plt.title(\"Loss vs Epoch\")\n",
    "plt.legend()\n",
    "plt.show()"
   ]
  },
  {
   "cell_type": "code",
   "execution_count": 14,
   "id": "6d84556b",
   "metadata": {},
   "outputs": [
    {
     "name": "stdout",
     "output_type": "stream",
     "text": [
      "Total trainable parameters: 23714\n"
     ]
    }
   ],
   "source": [
    "total_params = sum(p.numel() for p in model.parameters())\n",
    "print(f\"Total trainable parameters: {total_params}\")"
   ]
  },
  {
   "cell_type": "code",
   "execution_count": 15,
   "id": "9e6748ca",
   "metadata": {},
   "outputs": [
    {
     "name": "stdout",
     "output_type": "stream",
     "text": [
      "Model exported to ONNX as 'model.onnx'\n"
     ]
    }
   ],
   "source": [
    "import torch\n",
    "import torch.onnx\n",
    "\n",
    "# 1. Load your model architecture\n",
    "model_2 = AdvCNN()  # Replace with your model class\n",
    "model_2.load_state_dict(torch.load(\"best_model.pth\", map_location=\"cpu\"))\n",
    "model_2.eval()  # Set to evaluation mode\n",
    "\n",
    "# 2. Prepare dummy input (matching input shape of your model)\n",
    "dummy_input = torch.randn(1, 3, 224, 224)  # Batch size 1, 3 channels, 224x224\n",
    "\n",
    "# 3. Export to ONNX\n",
    "torch.onnx.export(\n",
    "    model_2,                      # Model\n",
    "    dummy_input,                # Input tensor\n",
    "    \"model_best.onnx\",               # Output file\n",
    "    export_params=True,         # Store weights inside model file\n",
    "    opset_version=11,           # ONNX version\n",
    "    do_constant_folding=True,   # Simplify the graph\n",
    "    input_names=[\"input\"],      # Input node name\n",
    "    output_names=[\"output\"],    # Output node name\n",
    "    dynamic_axes={              # Support dynamic batch sizes\n",
    "        \"input\": {0: \"batch_size\"},\n",
    "        \"output\": {0: \"batch_size\"}\n",
    "    }\n",
    ")\n",
    "\n",
    "print(\"Model exported to ONNX as 'model.onnx'\")\n"
   ]
  }
 ],
 "metadata": {
  "kernelspec": {
   "display_name": ".venv",
   "language": "python",
   "name": "python3"
  },
  "language_info": {
   "codemirror_mode": {
    "name": "ipython",
    "version": 3
   },
   "file_extension": ".py",
   "mimetype": "text/x-python",
   "name": "python",
   "nbconvert_exporter": "python",
   "pygments_lexer": "ipython3",
   "version": "3.13.0"
  }
 },
 "nbformat": 4,
 "nbformat_minor": 5
}
